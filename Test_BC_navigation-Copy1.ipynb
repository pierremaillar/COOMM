{
 "cells": [
  {
   "cell_type": "code",
   "execution_count": null,
   "id": "e7014712-8918-48bc-af05-4d15fedd4707",
   "metadata": {},
   "outputs": [],
   "source": [
    "#pip install -e C:/Users/pierr/Desktop/COOMM"
   ]
  },
  {
   "cell_type": "code",
   "execution_count": 77,
   "id": "82d5b6ad-4639-4530-af26-f6f2a8a93aae",
   "metadata": {},
   "outputs": [],
   "source": [
    "import numpy as np\n",
    "from tqdm import tqdm\n",
    "\n",
    "from coomm.algorithms import ForwardBackwardNavigation\n",
    "from coomm.objects import PointTarget\n",
    "from coomm.callback_func import AlgorithmNavigationCallBack\n",
    "\n",
    "from examples.journal_navigation.set_environment import Environment"
   ]
  },
  {
   "cell_type": "code",
   "execution_count": 78,
   "id": "556c7e63-82e4-4e84-b511-9700e6be1368",
   "metadata": {},
   "outputs": [
    {
     "data": {
      "text/plain": [
       "<elastica.modules.forcing._ExtForceTorque at 0x212ec0b49d0>"
      ]
     },
     "execution_count": 78,
     "metadata": {},
     "output_type": "execute_result"
    }
   ],
   "source": [
    "def get_algo(rod, muscles, target):\n",
    "    algo = ForwardBackwardMuscle(\n",
    "        rod=rod,\n",
    "        muscles=muscles,\n",
    "        algo_config=dict(\n",
    "            stepsize=1e-8,\n",
    "            activation_diff_tolerance=1e-12\n",
    "        ),\n",
    "        object=PointTarget.get_point_target_from_sphere(\n",
    "            sphere=target,\n",
    "            n_elements=1,\n",
    "            cost_weight=dict(\n",
    "                position=0,\n",
    "                director=0\n",
    "            ),\n",
    "            target_cost_weight=dict(\n",
    "                position=1e6,\n",
    "                director=1e3\n",
    "            ),\n",
    "            director_cost_flag=True,\n",
    "        )\n",
    "    )\n",
    "    director = np.eye(3)\n",
    "    base_to_target = algo.objects.position - rod.position_collection[:, 0]\n",
    "    tip_to_target = algo.objects.position - rod.position_collection[:, -1]\n",
    "    base_to_target /= np.linalg.norm(base_to_target)\n",
    "    tip_to_target /= np.linalg.norm(tip_to_target)\n",
    "\n",
    "    director[1, :] = np.cross(base_to_target, tip_to_target)\n",
    "    director[0, :] = np.cross(director[1, :], tip_to_target)\n",
    "    director[2, :] = np.cross(director[0, :], director[1, :])\n",
    "\n",
    "    algo.objects.director = director.copy()\n",
    "    target.director_collection[:, :, 0] = director.copy()\n",
    "    return algo"
   ]
  },
  {
   "cell_type": "code",
   "execution_count": 79,
   "id": "f4ff68d3-f92e-4586-b095-ad026792e68b",
   "metadata": {},
   "outputs": [
    {
     "data": {
      "text/plain": [
       "<elastica.modules.callbacks._CallBack at 0x212b0f4a140>"
      ]
     },
     "execution_count": 79,
     "metadata": {},
     "output_type": "execute_result"
    }
   ],
   "source": [
    "def main(filename, target_position=None):\n",
    "    \"\"\" Create simulation environment \"\"\"\n",
    "    final_time = 15.001\n",
    "    env = Environment(final_time)\n",
    "    total_steps, systems = env.reset()\n",
    "    controller_Hz = 500\n",
    "    controller_step_skip = int(1.0 / (controller_Hz * env.time_step))\n",
    "\n",
    "    if target_position is not None:\n",
    "        env.sphere.position_collection[:, 0] = target_position\n",
    "\n",
    "    \"\"\" Initialize algorithm \"\"\"\n",
    "    algo = get_algo(\n",
    "        rod=systems[0],\n",
    "        muscles=env.muscle_groups,\n",
    "        target=systems[1]\n",
    "    )\n",
    "    algo_callback = AlgorithmMuscleCallBack(step_skip=env.step_skip)\n",
    "\n",
    "    algo.run(max_iter_number=100_000)\n",
    "    \n",
    "    \"\"\" Read arm params \"\"\"\n",
    "    activations = []\n",
    "    for m in range(len(env.muscle_groups)):\n",
    "        activations.append(\n",
    "            np.zeros(env.muscle_groups[m].activation.shape)\n",
    "        )\n",
    "\n",
    "    \"\"\" Start the simulation \"\"\"\n",
    "    print(\"Running simulation ...\")\n",
    "    time = np.float64(0.0)\n",
    "    weight_start_time = np.float64(0.0)\n",
    "    for k_sim in tqdm(range(total_steps)):\n",
    "\n",
    "        if (k_sim % controller_step_skip) == 0:\n",
    "            # controller implementation\n",
    "            weight = np.min([1., (time - weight_start_time) / 1.])\n",
    "            for m in range(len(activations)):\n",
    "                activations[m] = weight * algo.activations[m]\n",
    "\n",
    "        algo_callback.make_callback(algo, time, k_sim)\n",
    "        time, systems, done = env.step(time, activations)\n",
    "        if done:\n",
    "            break\n",
    "\n",
    "    \"\"\" Save the data of the simulation \"\"\"\n",
    "    env.save_data(\n",
    "        filename=filename,\n",
    "        algo=algo_callback.callback_params,\n",
    "    )"
   ]
  },
  {
   "cell_type": "code",
   "execution_count": 80,
   "id": "cfc08503-9396-4e48-ba76-0d779a3af08b",
   "metadata": {},
   "outputs": [
    {
     "name": "stdout",
     "output_type": "stream",
     "text": [
      "System finalized\n"
     ]
    }
   ],
   "source": [
    "filename = \"navigation_result\"  # Change this as needed\n",
    "target_position = None  # Set to a target position if needed, e.g., np.array([x, y, z])\n",
    "\n",
    "# Run the simulation\n",
    "main(filename=filename, target_position=target_position)"
   ]
  }
 ],
 "metadata": {
  "kernelspec": {
   "display_name": "Python 3 (ipykernel)",
   "language": "python",
   "name": "python3"
  },
  "language_info": {
   "codemirror_mode": {
    "name": "ipython",
    "version": 3
   },
   "file_extension": ".py",
   "mimetype": "text/x-python",
   "name": "python",
   "nbconvert_exporter": "python",
   "pygments_lexer": "ipython3",
   "version": "3.10.16"
  }
 },
 "nbformat": 4,
 "nbformat_minor": 5
}
